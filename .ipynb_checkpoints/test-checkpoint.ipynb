{
 "cells": [
  {
   "cell_type": "code",
   "execution_count": 204,
   "metadata": {},
   "outputs": [
    {
     "name": "stdout",
     "output_type": "stream",
     "text": [
      "Èò£R¡ß\u001c",
      "ð÷­¯+ccf«Ç\u0001\u0012Ôò*B",
      "\u0000 ù#\n",
      "This is a much longer test!!@#$%^\n"
     ]
    }
   ],
   "source": [
    "import sympy\n",
    "import random\n",
    "import json\n",
    "def genSub():\n",
    "    k = {}\n",
    "\n",
    "    a = list(range(0,256))\n",
    "    j = 255\n",
    "\n",
    "    for i in range(0,256):\n",
    "        #get a random value from a\n",
    "        rand = random.randint(0,j)\n",
    "        #print(rand)\n",
    "        val = a[rand]\n",
    "\n",
    "        #remove that value from a\n",
    "        a.pop(rand)\n",
    "        j -= 1\n",
    "\n",
    "        #insert value into dictionary\n",
    "        k[i] = val\n",
    "    return k\n",
    "\n",
    "def genIV():\n",
    "    return random.randint(0,255)\n",
    "\n",
    "def genSubInv(k):\n",
    "    return {v:k for k,v in k.items()}\n",
    "\n",
    "def ek(msg, charPnt, k, IV):\n",
    "    if(charPnt == 0):\n",
    "        c = k[ord(msg[0])^IV]\n",
    "        cyph = chr(c)\n",
    "        return (c, cyph)\n",
    "    else:\n",
    "        e, cyph = ek(msg, charPnt-1, k, IV)\n",
    "        c = k[ord(msg[charPnt]) ^ e]\n",
    "        cyph += chr(c)\n",
    "        return (c, cyph)\n",
    "\n",
    "def dk(cyph, kinv, IV):\n",
    "    plntxt = chr(kinv[ord(cyph[0])]^IV)\n",
    "    \n",
    "    for i in range(1, len(cyph)):\n",
    "        p = kinv[ord(cyph[i])]^ord(cyph[i-1])\n",
    "        plntxt += chr(p)\n",
    "        \n",
    "    return plntxt\n",
    "        \n",
    "        \n",
    "message = \"This is a much longer test!!@#$%^\"\n",
    "IV = genIV()\n",
    "\n",
    "k = genSub()\n",
    "\n",
    "c, cyph = ek(message, len(message)-1, k, IV)\n",
    "print(cyph)\n",
    "kinv = genSubInv(k)\n",
    "\n",
    "pln = dk(cyph, kinv, IV)\n",
    "\n",
    "print(pln)\n"
   ]
  },
  {
   "cell_type": "code",
   "execution_count": null,
   "metadata": {},
   "outputs": [],
   "source": []
  }
 ],
 "metadata": {
  "kernelspec": {
   "display_name": "Python 3",
   "language": "python",
   "name": "python3"
  },
  "language_info": {
   "codemirror_mode": {
    "name": "ipython",
    "version": 3
   },
   "file_extension": ".py",
   "mimetype": "text/x-python",
   "name": "python",
   "nbconvert_exporter": "python",
   "pygments_lexer": "ipython3",
   "version": "3.6.7"
  }
 },
 "nbformat": 4,
 "nbformat_minor": 2
}
