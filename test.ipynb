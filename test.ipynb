{
 "cells": [
  {
   "cell_type": "code",
   "execution_count": 27,
   "metadata": {},
   "outputs": [],
   "source": [
    "import socket \n",
    "import select \n",
    "import sys \n",
    "import re\n",
    "import sympy\n",
    "import random\n",
    "\n",
    "def egcd(a, b):\n",
    "    if a == 0:\n",
    "        return (b, 0, 1)\n",
    "    else:\n",
    "        g, y, x = egcd(b % a, a)\n",
    "        return (g, x - (b // a) * y, y)\n",
    "\n",
    "def modinv(a, m):\n",
    "    g, x, y = egcd(a, m)\n",
    "    if g != 1:\n",
    "        raise Exception('modular inverse does not exist')\n",
    "    else:\n",
    "        return x % m \n",
    "\n",
    "def RSAinit(rang_low, rang_mid, rang_high):\n",
    "    p = sympy.randprime(rang_low,rang_mid)\n",
    "    q = sympy.randprime(rang_mid,rang_high)\n",
    "    \n",
    "    n = p*q\n",
    "\n",
    "    phi = (p-1)*(q-1)\n",
    "\n",
    "    \n",
    "    b = random.randint(2, phi)\n",
    "    #make sure gcd of b and phi(n) == 1\n",
    "    while(egcd(b, phi)[0] != 1):\n",
    "        print(phi)\n",
    "        b = random.randint(2, phi)\n",
    "        \n",
    "    a = modinv(b, n)\n",
    "\n",
    "\n",
    "\n",
    "    return ((n,b),(p,q,a))\n",
    "    "
   ]
  },
  {
   "cell_type": "code",
   "execution_count": 28,
   "metadata": {},
   "outputs": [
    {
     "name": "stdout",
     "output_type": "stream",
     "text": [
      "((32639, 20135), (127, 257, 26497))\n"
     ]
    }
   ],
   "source": [
    "print(RSAinit(100,200,300))\n"
   ]
  }
 ],
 "metadata": {
  "kernelspec": {
   "display_name": "Python 3",
   "language": "python",
   "name": "python3"
  },
  "language_info": {
   "codemirror_mode": {
    "name": "ipython",
    "version": 3
   },
   "file_extension": ".py",
   "mimetype": "text/x-python",
   "name": "python",
   "nbconvert_exporter": "python",
   "pygments_lexer": "ipython3",
   "version": "3.6.7"
  }
 },
 "nbformat": 4,
 "nbformat_minor": 2
}
